{
 "cells": [
  {
   "cell_type": "markdown",
   "id": "da2ba505-cebe-449f-be73-956d69e1c87f",
   "metadata": {},
   "source": [
    "# Data Science Tools and Ecosystem"
   ]
  },
  {
   "cell_type": "markdown",
   "id": "e18f3659-fa5f-4f58-8897-3407b9ecb620",
   "metadata": {},
   "source": [
    "In this notebook, Data Science Tools and Ecosystem are summarized."
   ]
  },
  {
   "cell_type": "markdown",
   "id": "56c36c3e-38c9-4d4e-a1cd-45d9215065cd",
   "metadata": {},
   "source": [
    "**Objectives:**\n",
    "- List popular languages for Data Science\n",
    "- List commnly used libraries\n",
    "- List Data Science tools"
   ]
  },
  {
   "cell_type": "code",
   "execution_count": null,
   "id": "48c1c9b5-0e80-4da3-8539-d0ae22fa3e10",
   "metadata": {},
   "outputs": [],
   "source": []
  }
 ],
 "metadata": {
  "kernelspec": {
   "display_name": "Python 3 (ipykernel)",
   "language": "python",
   "name": "python3"
  },
  "language_info": {
   "codemirror_mode": {
    "name": "ipython",
    "version": 3
   },
   "file_extension": ".py",
   "mimetype": "text/x-python",
   "name": "python",
   "nbconvert_exporter": "python",
   "pygments_lexer": "ipython3",
   "version": "3.13.5"
  }
 },
 "nbformat": 4,
 "nbformat_minor": 5
}
