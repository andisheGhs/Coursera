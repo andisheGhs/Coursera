{
 "cells": [
  {
   "cell_type": "markdown",
   "id": "da2ba505-cebe-449f-be73-956d69e1c87f",
   "metadata": {},
   "source": [
    "# Data Science Tools and Ecosystem"
   ]
  },
  {
   "cell_type": "markdown",
   "id": "e18f3659-fa5f-4f58-8897-3407b9ecb620",
   "metadata": {},
   "source": [
    "In this notebook, Data Science Tools and Ecosystem are summarized."
   ]
  },
  {
   "cell_type": "markdown",
   "id": "56c36c3e-38c9-4d4e-a1cd-45d9215065cd",
   "metadata": {},
   "source": [
    "**Objectives:**\n",
    "- List popular languages for Data Science\n",
    "- List commnly used libraries\n",
    "- List Data Science tools"
   ]
  },
  {
   "cell_type": "markdown",
   "id": "fbf0ea25-73e4-4580-a59f-b3a095da07ca",
   "metadata": {},
   "source": [
    "Some of the popular languages that Data Scientists use are:\n",
    "1. python\n",
    "2. R\n",
    "3. scala"
   ]
  },
  {
   "cell_type": "markdown",
   "id": "0041bee3-f913-4f89-86ec-c36822012877",
   "metadata": {},
   "source": [
    "Some of the commonly used libraries used by Data Scientists include:\n",
    "\n",
    "1. matplotlib\n",
    "2. pandas\n",
    "3. numpy\n"
   ]
  },
  {
   "cell_type": "markdown",
   "id": "9012ad10-62d9-4adf-b6ee-a79718341893",
   "metadata": {},
   "source": [
    "| Data Science Tools |\n",
    "| :---: |\n",
    "| Jupyter Notebook | \n",
    "| RStudio |\n",
    "| Spyder |\n"
   ]
  },
  {
   "cell_type": "markdown",
   "id": "e66e0cc4-35f7-41a8-8494-8d0a5d32e0ea",
   "metadata": {},
   "source": [
    "### Below are a few examples of evaluating arithmetic expressions in Python."
   ]
  },
  {
   "cell_type": "code",
   "execution_count": 3,
   "id": "718c45c6-4868-424f-bebf-2669c7e85f8f",
   "metadata": {},
   "outputs": [
    {
     "data": {
      "text/plain": [
       "17"
      ]
     },
     "execution_count": 3,
     "metadata": {},
     "output_type": "execute_result"
    }
   ],
   "source": [
    "#This a simple arithmetic expression to mutiply then add integers\n",
    "(3*4)+5"
   ]
  },
  {
   "cell_type": "code",
   "execution_count": 4,
   "id": "a8a1cd02-9420-4956-ada0-d2c914f7e11a",
   "metadata": {},
   "outputs": [
    {
     "data": {
      "text/plain": [
       "3.3333333333333335"
      ]
     },
     "execution_count": 4,
     "metadata": {},
     "output_type": "execute_result"
    }
   ],
   "source": [
    "#This will convert 200 minutes to hours by diving by 60.\n",
    "200/60 "
   ]
  },
  {
   "cell_type": "markdown",
   "id": "cf1872bc-140d-4abd-95ef-c6aee0810e22",
   "metadata": {},
   "source": [
    "## Author: \n",
    "Elahe Ghasemi"
   ]
  },
  {
   "cell_type": "code",
   "execution_count": null,
   "id": "09b6780b-9e30-4e29-b7ad-8d7cdc12e8f2",
   "metadata": {},
   "outputs": [],
   "source": []
  }
 ],
 "metadata": {
  "kernelspec": {
   "display_name": "Python 3 (ipykernel)",
   "language": "python",
   "name": "python3"
  },
  "language_info": {
   "codemirror_mode": {
    "name": "ipython",
    "version": 3
   },
   "file_extension": ".py",
   "mimetype": "text/x-python",
   "name": "python",
   "nbconvert_exporter": "python",
   "pygments_lexer": "ipython3",
   "version": "3.13.5"
  }
 },
 "nbformat": 4,
 "nbformat_minor": 5
}
